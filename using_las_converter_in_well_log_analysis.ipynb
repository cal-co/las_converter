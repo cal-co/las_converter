{
 "cells": [
  {
   "cell_type": "code",
   "execution_count": 49,
   "metadata": {},
   "outputs": [
    {
     "name": "stdout",
     "output_type": "stream",
     "text": [
      "rm: cannot remove 'las_converter/__pycache__/': No such file or directory\r\n"
     ]
    }
   ],
   "source": [
    "# remove cached Python file (if exists)\n",
    "!rm -r las_converter/__pycache__/"
   ]
  },
  {
   "cell_type": "code",
   "execution_count": 50,
   "metadata": {},
   "outputs": [
    {
     "name": "stdout",
     "output_type": "stream",
     "text": [
      "-e $'env' already exists.\r\n",
      " $actvate the setup by $\u001b[33m\u001b[1msource env/bin/activate\u001b[0m $\r\n",
      "\r\n",
      "install Python dependencies then by\r\n",
      " $\u001b[33m\u001b[1mpip install -r requirements.txt\u001b[0m\r\n"
     ]
    }
   ],
   "source": [
    "# checking Python environment existence\n",
    "!./check-pyenv.sh"
   ]
  },
  {
   "cell_type": "code",
   "execution_count": 51,
   "metadata": {},
   "outputs": [],
   "source": [
    "# import several libraries\n",
    "import numpy as np\n",
    "import matplotlib\n",
    "import matplotlib.pyplot as plt\n",
    "\n",
    "# import external libraries\n",
    "from las_converter import WellLog"
   ]
  },
  {
   "cell_type": "code",
   "execution_count": 52,
   "metadata": {
    "tags": []
   },
   "outputs": [
    {
     "name": "stdout",
     "output_type": "stream",
     "text": [
      "Getiing LAS file from local drive...\n",
      "Loading well data. It will takes time for a while...\n",
      "Well log data loaded for 11.379339 s\n"
     ]
    }
   ],
   "source": [
    "# init'd well instance\n",
    "log1 = WellLog(\"samples/WA2.LAS\")"
   ]
  },
  {
   "cell_type": "code",
   "execution_count": 53,
   "metadata": {},
   "outputs": [
    {
     "name": "stdout",
     "output_type": "stream",
     "text": [
      "There are some well properties with description provided.\n",
      "- version\n",
      "- well\n",
      "- curve\n",
      "- parameter\n",
      "- other\n",
      "- data_table\n"
     ]
    }
   ],
   "source": [
    "# get well description section\n",
    "log1.get_description()"
   ]
  },
  {
   "cell_type": "code",
   "execution_count": 54,
   "metadata": {},
   "outputs": [
    {
     "name": "stdout",
     "output_type": "stream",
     "text": [
      "Describing well log information about 'version'\n",
      "- vers. : CWLS LOG ASCII STANDARD--VERSION 2.0\n",
      "- wrap. : ONE LINE PER DEPTH STEP\n"
     ]
    }
   ],
   "source": [
    "# get version description\n",
    "log1.get_description(\"version\")"
   ]
  },
  {
   "cell_type": "code",
   "execution_count": 55,
   "metadata": {},
   "outputs": [
    {
     "name": "stdout",
     "output_type": "stream",
     "text": [
      "Describing well log information about 'well'\n",
      "- strt.ft : START DEPTH\n",
      "- stop.ft : STOP DEPTH\n",
      "- step.ft : STEP\n",
      "- null. : NULL VALUE\n",
      "- comp. : COMPANY\n",
      "- well. : WELL NAME\n",
      "- uwi. : WELL UWI\n",
      "- api. : WELL API\n",
      "- loc. : WELL LOCATION\n",
      "- date. : WELL DATE\n",
      "- fld. : Project NAME\n"
     ]
    }
   ],
   "source": [
    "# get well description\n",
    "log1.get_description(\"well\")"
   ]
  },
  {
   "cell_type": "code",
   "execution_count": null,
   "metadata": {},
   "outputs": [
    {
     "name": "stdout",
     "output_type": "stream",
     "text": [
      "Describing well log information about 'curve'\n",
      "- m__depth.ft : M__DEPTH\n",
      "- sp : SP\n",
      "- gr : GR\n",
      "- cali : CALI\n",
      "- bitsize : BitSize\n",
      "- msfl : MSFL\n",
      "- lld : LLD\n",
      "- lls : LLS\n",
      "- rhob : RHOB\n",
      "- nphi : NPHI\n",
      "- dt : DT\n",
      "- mudwgt : MudWgt\n"
     ]
    }
   ],
   "source": [
    "# get curve description\n",
    "log1.get_description(\"curve\")"
   ]
  },
  {
   "cell_type": "code",
   "execution_count": null,
   "metadata": {},
   "outputs": [
    {
     "name": "stdout",
     "output_type": "stream",
     "text": [
      "Getting information: well\n",
      "- strt.ft : 98.00000\n",
      "- stop.ft : 4360.00000\n",
      "- step.ft : 0.50000\n",
      "- null. : -999.00000\n",
      "- comp. : Data output from TerraStation II\n",
      "- well. : Walakpa 2\n",
      "- uwi. : 50-023-20019\n",
      "- api. : 50-023-20019\n",
      "- loc. : 31 20N 19W\n",
      "- date. : NorthSlope.W07\n",
      "- fld. : No Project Selected\n"
     ]
    }
   ],
   "source": [
    "# get well data information\n",
    "log1.get_data(\"well\")"
   ]
  },
  {
   "cell_type": "code",
   "execution_count": null,
   "metadata": {},
   "outputs": [],
   "source": [
    "# accessing well log data table\n",
    "log_data = log1.info[\"data_table\"]\n",
    "\n",
    "print(log_data[\"m__depth.ft\"])\n",
    "print(log_data[\"gr\"][:10])"
   ]
  },
  {
   "cell_type": "code",
   "execution_count": null,
   "metadata": {},
   "outputs": [],
   "source": [
    "# get well plotting\n",
    "## ax1 = gamma ray\n",
    "## ax2 = neutron porosity\n",
    "fig = plt.figure(figsize=(20, 40))\n",
    "\n",
    "ax1 = fig.add_subplot(121)\n",
    "ax2 = fig.add_subplot(122)\n",
    "\n",
    "ax1.set_xlabel(\"gamma ray\")\n",
    "ax2.set_xlabel(\"neutron\")\n",
    "\n",
    "ax1.set_ylabel(\"depth (ft)\")\n",
    "ax2.set_ylabel(\"depth (ft)\")\n",
    "\n",
    "ax1.plot(np.array(log_data[\"gr\"]), np.array(log_data[\"m__depth.ft\"]))\n",
    "ax2.plot(np.array(log_data[\"nphi\"]), np.array(log_data[\"m__depth.ft\"]), color=\"red\")\n",
    "\n",
    "ax1.invert_yaxis()\n",
    "ax2.invert_yaxis()\n",
    "\n",
    "ax1.set_ylim(ymax=0, ymin=np.max(log_data[\"m__depth.ft\"]))\n",
    "ax2.set_ylim(ymax=0, ymin=np.max(log_data[\"m__depth.ft\"]))\n",
    "plt.show()"
   ]
  },
  {
   "cell_type": "code",
   "execution_count": null,
   "metadata": {},
   "outputs": [],
   "source": [
    "# get same plot\n",
    "## in scatter format\n",
    "fig = plt.figure(figsize=(20, 40))\n",
    "\n",
    "ax1 = fig.add_subplot(121)\n",
    "ax2 = fig.add_subplot(122)\n",
    "\n",
    "ax1.set_xlabel(\"gamma ray\")\n",
    "ax2.set_xlabel(\"neutron\")\n",
    "\n",
    "ax1.set_ylabel(\"depth (ft)\")\n",
    "ax2.set_ylabel(\"depth (ft)\")\n",
    "\n",
    "ax1.scatter(np.array(log_data[\"gr\"]), np.array(log_data[\"m__depth.ft\"]))\n",
    "ax2.scatter(np.array(log_data[\"nphi\"]), np.array(log_data[\"m__depth.ft\"]), color=\"red\")\n",
    "\n",
    "ax1.invert_yaxis()\n",
    "ax2.invert_yaxis()\n",
    "\n",
    "ax1.set_ylim(ymax=0, ymin=np.max(log_data[\"m__depth.ft\"]))\n",
    "ax2.set_ylim(ymax=0, ymin=np.max(log_data[\"m__depth.ft\"]))\n",
    "plt.show()"
   ]
  },
  {
   "cell_type": "code",
   "execution_count": null,
   "metadata": {},
   "outputs": [],
   "source": [
    "help(WellLog)"
   ]
  },
  {
   "cell_type": "code",
   "execution_count": null,
   "metadata": {},
   "outputs": [],
   "source": [
    "# save file in json\n",
    "log1.save_file(\"json\")"
   ]
  },
  {
   "cell_type": "code",
   "execution_count": null,
   "metadata": {},
   "outputs": [],
   "source": [
    "# log1.get_description?"
   ]
  },
  {
   "cell_type": "code",
   "execution_count": null,
   "metadata": {},
   "outputs": [],
   "source": [
    "log1.save_file(\"csv\")"
   ]
  },
  {
   "cell_type": "code",
   "execution_count": null,
   "metadata": {},
   "outputs": [],
   "source": []
  }
 ],
 "metadata": {
  "kernelspec": {
   "display_name": "Python 3",
   "language": "python",
   "name": "python3"
  },
  "language_info": {
   "codemirror_mode": {
    "name": "ipython",
    "version": 3
   },
   "file_extension": ".py",
   "mimetype": "text/x-python",
   "name": "python",
   "nbconvert_exporter": "python",
   "pygments_lexer": "ipython3",
   "version": "3.6.9"
  }
 },
 "nbformat": 4,
 "nbformat_minor": 4
}
